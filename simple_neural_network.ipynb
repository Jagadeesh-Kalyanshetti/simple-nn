{
 "cells": [
  {
   "cell_type": "code",
   "execution_count": 1,
   "metadata": {},
   "outputs": [],
   "source": [
    "import torch\n",
    "import torch.nn as nn\n",
    "import torch.optim as optim\n",
    "from torch.utils.data import DataLoader, Dataset\n",
    "import torchvision.transforms as transforms\n",
    "from torchvision.datasets import ImageFolder\n",
    "from torchvision.utils import save_image\n",
    "import os\n",
    "from PIL import Image\n",
    "import numpy as np"
   ]
  },
  {
   "cell_type": "code",
   "execution_count": 2,
   "metadata": {},
   "outputs": [
    {
     "name": "stdout",
     "output_type": "stream",
     "text": [
      "True\n",
      "Using device: cuda\n"
     ]
    }
   ],
   "source": [
    "print(torch.cuda.is_available())\n",
    "device = torch.device(\"cuda\" if torch.cuda.is_available() else \"cpu\")\n",
    "print(f\"Using device: {device}\")"
   ]
  },
  {
   "cell_type": "code",
   "execution_count": 3,
   "metadata": {},
   "outputs": [],
   "source": [
    "class LOLDataset(Dataset):\n",
    "    def __init__(self, low_dir, high_dir, transform=None):\n",
    "        self.low_dir = low_dir\n",
    "        self.high_dir = high_dir\n",
    "        self.transform = transform\n",
    "\n",
    "        self.low_images = [f for f in os.listdir(low_dir) if f.lower().endswith(('.png', '.jpg', '.jpeg', '.bmp'))]\n",
    "        self.high_images = [f for f in os.listdir(high_dir) if f.lower().endswith(('.png', '.jpg', '.jpeg', '.bmp'))]\n",
    "\n",
    "        assert len(self.low_images) == len(self.high_images), \"Low and High images count mismatch.\"\n",
    "\n",
    "    def __len__(self):\n",
    "        return len(self.low_images)\n",
    "\n",
    "    def __getitem__(self, idx):\n",
    "        low_img_path = os.path.join(self.low_dir, self.low_images[idx])\n",
    "        high_img_path = os.path.join(self.high_dir, self.high_images[idx])\n",
    "\n",
    "        low_img = Image.open(low_img_path).convert(\"RGB\")\n",
    "        high_img = Image.open(high_img_path).convert(\"RGB\")\n",
    "\n",
    "        if self.transform:\n",
    "            low_img = self.transform(low_img)\n",
    "            high_img = self.transform(high_img)\n",
    "\n",
    "        return low_img, high_img"
   ]
  },
  {
   "cell_type": "code",
   "execution_count": 4,
   "metadata": {},
   "outputs": [],
   "source": [
    "def get_dataloaders(batch_size=8):\n",
    "    transform = transforms.Compose([\n",
    "        transforms.Resize((64, 64)),\n",
    "        transforms.ToTensor(),\n",
    "    ])\n",
    "    \n",
    "    dataset_path = \"C://Users//kalya//Downloads//LOLdataset//\"\n",
    "    train_low_dir = os.path.join(dataset_path, 'our485//low//')\n",
    "    train_high_dir = os.path.join(dataset_path, 'our485//high//')\n",
    "\n",
    "    train_dataset = LOLDataset(low_dir=train_low_dir, high_dir=train_high_dir, transform=transform)\n",
    "    train_loader = DataLoader(train_dataset, batch_size=batch_size, shuffle=True)\n",
    "    \n",
    "    return train_loader\n"
   ]
  },
  {
   "cell_type": "code",
   "execution_count": 5,
   "metadata": {},
   "outputs": [],
   "source": [
    "class SimpleCNN(nn.Module):\n",
    "    def __init__(self):\n",
    "        super(SimpleCNN, self).__init__()\n",
    "        self.layer1 = nn.Conv2d(in_channels=3, out_channels=32, kernel_size=3, stride=1, padding=1)\n",
    "        self.relu = nn.ReLU()\n",
    "        self.layer2 = nn.Conv2d(in_channels=32, out_channels=64, kernel_size=3, stride=1, padding=1)\n",
    "        self.layer3 = nn.Conv2d(in_channels=64, out_channels=128, kernel_size=3, stride=1, padding=1)\n",
    "        self.fc1 = nn.Linear(128 * 64 * 64, 512)\n",
    "        self.fc2 = nn.Linear(512, 3 * 64 * 64)\n",
    "        \n",
    "    def forward(self, x):\n",
    "        x = self.relu(self.layer1(x))\n",
    "        x = self.relu(self.layer2(x))\n",
    "        x = self.relu(self.layer3(x))\n",
    "        x = x.view(x.size(0), -1)\n",
    "        x = self.relu(self.fc1(x))\n",
    "        x = self.fc2(x)\n",
    "        x = x.view(-1, 3, 64, 64)\n",
    "        return x\n"
   ]
  },
  {
   "cell_type": "code",
   "execution_count": 6,
   "metadata": {},
   "outputs": [],
   "source": [
    "model = SimpleCNN().to(device)\n",
    "criterion = nn.MSELoss()\n",
    "optimizer = optim.Adam(model.parameters(), lr=0.001)"
   ]
  },
  {
   "cell_type": "code",
   "execution_count": 7,
   "metadata": {},
   "outputs": [],
   "source": [
    "def train(model, train_loader, num_epochs=20, save_path=\"C://Users//kalya//Downloads//Test//Pretrained Weight//model_weights.pth\"):\n",
    "    torch.cuda.empty_cache()\n",
    "    model.train()\n",
    "    \n",
    "    for epoch in range(num_epochs):\n",
    "        epoch_loss = 0.0\n",
    "        for batch_idx, (inputs, targets) in enumerate(train_loader):\n",
    "            inputs, targets = inputs.to(device), targets.to(device)\n",
    "\n",
    "            optimizer.zero_grad()\n",
    "            outputs = model(inputs)\n",
    "            loss = criterion(outputs, targets)\n",
    "            loss.backward()\n",
    "            optimizer.step()\n",
    "\n",
    "            epoch_loss += loss.item()\n",
    "\n",
    "            if batch_idx % 10 == 0:\n",
    "                print(f\"Epoch [{epoch+1}/{num_epochs}], Step [{batch_idx}/{len(train_loader)}], Loss: {loss.item():.4f}\")\n",
    "\n",
    "        torch.save(model.state_dict(), save_path)\n",
    "        print(f\"Epoch [{epoch+1}/{num_epochs}], Loss: {epoch_loss/len(train_loader):.4f}\")\n",
    "        print(f\"Model weights saved to {save_path}\")"
   ]
  },
  {
   "cell_type": "code",
   "execution_count": 8,
   "metadata": {},
   "outputs": [],
   "source": [
    "train_loader = get_dataloaders(batch_size=8)\n"
   ]
  },
  {
   "cell_type": "code",
   "execution_count": 9,
   "metadata": {},
   "outputs": [
    {
     "name": "stdout",
     "output_type": "stream",
     "text": [
      "Epoch [1/20], Step [0/61], Loss: 0.2832\n",
      "Epoch [1/20], Step [10/61], Loss: 0.1403\n",
      "Epoch [1/20], Step [20/61], Loss: 0.0762\n",
      "Epoch [1/20], Step [30/61], Loss: 0.0447\n",
      "Epoch [1/20], Step [40/61], Loss: 0.0799\n",
      "Epoch [1/20], Step [50/61], Loss: 0.0593\n",
      "Epoch [1/20], Step [60/61], Loss: 0.0458\n",
      "Epoch [1/20], Loss: 0.1479\n",
      "Model weights saved to C://Users//kalya//Downloads//Test//Pretrained Weight//model_weights.pth\n",
      "Epoch [2/20], Step [0/61], Loss: 0.0316\n",
      "Epoch [2/20], Step [10/61], Loss: 0.0468\n",
      "Epoch [2/20], Step [20/61], Loss: 0.0386\n",
      "Epoch [2/20], Step [30/61], Loss: 0.0354\n",
      "Epoch [2/20], Step [40/61], Loss: 0.0430\n",
      "Epoch [2/20], Step [50/61], Loss: 0.0469\n",
      "Epoch [2/20], Step [60/61], Loss: 0.0457\n",
      "Epoch [2/20], Loss: 0.0453\n",
      "Model weights saved to C://Users//kalya//Downloads//Test//Pretrained Weight//model_weights.pth\n",
      "Epoch [3/20], Step [0/61], Loss: 0.0375\n",
      "Epoch [3/20], Step [10/61], Loss: 0.0487\n",
      "Epoch [3/20], Step [20/61], Loss: 0.0476\n",
      "Epoch [3/20], Step [30/61], Loss: 0.0462\n",
      "Epoch [3/20], Step [40/61], Loss: 0.0388\n",
      "Epoch [3/20], Step [50/61], Loss: 0.0434\n",
      "Epoch [3/20], Step [60/61], Loss: 0.0463\n",
      "Epoch [3/20], Loss: 0.0432\n",
      "Model weights saved to C://Users//kalya//Downloads//Test//Pretrained Weight//model_weights.pth\n",
      "Epoch [4/20], Step [0/61], Loss: 0.0562\n",
      "Epoch [4/20], Step [10/61], Loss: 0.0368\n",
      "Epoch [4/20], Step [20/61], Loss: 0.0348\n",
      "Epoch [4/20], Step [30/61], Loss: 0.0376\n",
      "Epoch [4/20], Step [40/61], Loss: 0.0566\n",
      "Epoch [4/20], Step [50/61], Loss: 0.0448\n",
      "Epoch [4/20], Step [60/61], Loss: 0.0410\n",
      "Epoch [4/20], Loss: 0.0428\n",
      "Model weights saved to C://Users//kalya//Downloads//Test//Pretrained Weight//model_weights.pth\n",
      "Epoch [5/20], Step [0/61], Loss: 0.0348\n",
      "Epoch [5/20], Step [10/61], Loss: 0.0463\n",
      "Epoch [5/20], Step [20/61], Loss: 0.0456\n",
      "Epoch [5/20], Step [30/61], Loss: 0.0531\n",
      "Epoch [5/20], Step [40/61], Loss: 0.0384\n",
      "Epoch [5/20], Step [50/61], Loss: 0.0378\n",
      "Epoch [5/20], Step [60/61], Loss: 0.0477\n",
      "Epoch [5/20], Loss: 0.0431\n",
      "Model weights saved to C://Users//kalya//Downloads//Test//Pretrained Weight//model_weights.pth\n",
      "Epoch [6/20], Step [0/61], Loss: 0.0376\n",
      "Epoch [6/20], Step [10/61], Loss: 0.0345\n",
      "Epoch [6/20], Step [20/61], Loss: 0.0413\n",
      "Epoch [6/20], Step [30/61], Loss: 0.0448\n",
      "Epoch [6/20], Step [40/61], Loss: 0.0318\n",
      "Epoch [6/20], Step [50/61], Loss: 0.0386\n",
      "Epoch [6/20], Step [60/61], Loss: 0.0411\n",
      "Epoch [6/20], Loss: 0.0409\n",
      "Model weights saved to C://Users//kalya//Downloads//Test//Pretrained Weight//model_weights.pth\n",
      "Epoch [7/20], Step [0/61], Loss: 0.0270\n",
      "Epoch [7/20], Step [10/61], Loss: 0.0348\n",
      "Epoch [7/20], Step [20/61], Loss: 0.0428\n",
      "Epoch [7/20], Step [30/61], Loss: 0.0299\n",
      "Epoch [7/20], Step [40/61], Loss: 0.0402\n",
      "Epoch [7/20], Step [50/61], Loss: 0.0416\n",
      "Epoch [7/20], Step [60/61], Loss: 0.0255\n",
      "Epoch [7/20], Loss: 0.0348\n",
      "Model weights saved to C://Users//kalya//Downloads//Test//Pretrained Weight//model_weights.pth\n",
      "Epoch [8/20], Step [0/61], Loss: 0.0315\n",
      "Epoch [8/20], Step [10/61], Loss: 0.0306\n",
      "Epoch [8/20], Step [20/61], Loss: 0.0312\n",
      "Epoch [8/20], Step [30/61], Loss: 0.0331\n",
      "Epoch [8/20], Step [40/61], Loss: 0.0326\n",
      "Epoch [8/20], Step [50/61], Loss: 0.0374\n",
      "Epoch [8/20], Step [60/61], Loss: 0.0399\n",
      "Epoch [8/20], Loss: 0.0344\n",
      "Model weights saved to C://Users//kalya//Downloads//Test//Pretrained Weight//model_weights.pth\n",
      "Epoch [9/20], Step [0/61], Loss: 0.0454\n",
      "Epoch [9/20], Step [10/61], Loss: 0.0345\n",
      "Epoch [9/20], Step [20/61], Loss: 0.0249\n",
      "Epoch [9/20], Step [30/61], Loss: 0.0296\n",
      "Epoch [9/20], Step [40/61], Loss: 0.0313\n",
      "Epoch [9/20], Step [50/61], Loss: 0.0322\n",
      "Epoch [9/20], Step [60/61], Loss: 0.0443\n",
      "Epoch [9/20], Loss: 0.0329\n",
      "Model weights saved to C://Users//kalya//Downloads//Test//Pretrained Weight//model_weights.pth\n",
      "Epoch [10/20], Step [0/61], Loss: 0.0369\n",
      "Epoch [10/20], Step [10/61], Loss: 0.0273\n",
      "Epoch [10/20], Step [20/61], Loss: 0.0291\n",
      "Epoch [10/20], Step [30/61], Loss: 0.0443\n",
      "Epoch [10/20], Step [40/61], Loss: 0.0287\n",
      "Epoch [10/20], Step [50/61], Loss: 0.0309\n",
      "Epoch [10/20], Step [60/61], Loss: 0.0392\n",
      "Epoch [10/20], Loss: 0.0323\n",
      "Model weights saved to C://Users//kalya//Downloads//Test//Pretrained Weight//model_weights.pth\n",
      "Epoch [11/20], Step [0/61], Loss: 0.0288\n",
      "Epoch [11/20], Step [10/61], Loss: 0.0219\n",
      "Epoch [11/20], Step [20/61], Loss: 0.0370\n",
      "Epoch [11/20], Step [30/61], Loss: 0.0302\n",
      "Epoch [11/20], Step [40/61], Loss: 0.0315\n",
      "Epoch [11/20], Step [50/61], Loss: 0.0410\n",
      "Epoch [11/20], Step [60/61], Loss: 0.0296\n",
      "Epoch [11/20], Loss: 0.0311\n",
      "Model weights saved to C://Users//kalya//Downloads//Test//Pretrained Weight//model_weights.pth\n",
      "Epoch [12/20], Step [0/61], Loss: 0.0269\n",
      "Epoch [12/20], Step [10/61], Loss: 0.0320\n",
      "Epoch [12/20], Step [20/61], Loss: 0.0419\n",
      "Epoch [12/20], Step [30/61], Loss: 0.0323\n",
      "Epoch [12/20], Step [40/61], Loss: 0.0328\n",
      "Epoch [12/20], Step [50/61], Loss: 0.0267\n",
      "Epoch [12/20], Step [60/61], Loss: 0.0217\n",
      "Epoch [12/20], Loss: 0.0283\n",
      "Model weights saved to C://Users//kalya//Downloads//Test//Pretrained Weight//model_weights.pth\n",
      "Epoch [13/20], Step [0/61], Loss: 0.0310\n",
      "Epoch [13/20], Step [10/61], Loss: 0.0256\n",
      "Epoch [13/20], Step [20/61], Loss: 0.0254\n",
      "Epoch [13/20], Step [30/61], Loss: 0.0269\n",
      "Epoch [13/20], Step [40/61], Loss: 0.0225\n",
      "Epoch [13/20], Step [50/61], Loss: 0.0270\n",
      "Epoch [13/20], Step [60/61], Loss: 0.0295\n",
      "Epoch [13/20], Loss: 0.0268\n",
      "Model weights saved to C://Users//kalya//Downloads//Test//Pretrained Weight//model_weights.pth\n",
      "Epoch [14/20], Step [0/61], Loss: 0.0255\n",
      "Epoch [14/20], Step [10/61], Loss: 0.0267\n",
      "Epoch [14/20], Step [20/61], Loss: 0.0254\n",
      "Epoch [14/20], Step [30/61], Loss: 0.0237\n",
      "Epoch [14/20], Step [40/61], Loss: 0.0289\n",
      "Epoch [14/20], Step [50/61], Loss: 0.0334\n",
      "Epoch [14/20], Step [60/61], Loss: 0.0308\n",
      "Epoch [14/20], Loss: 0.0254\n",
      "Model weights saved to C://Users//kalya//Downloads//Test//Pretrained Weight//model_weights.pth\n",
      "Epoch [15/20], Step [0/61], Loss: 0.0196\n",
      "Epoch [15/20], Step [10/61], Loss: 0.0176\n",
      "Epoch [15/20], Step [20/61], Loss: 0.0328\n",
      "Epoch [15/20], Step [30/61], Loss: 0.0171\n",
      "Epoch [15/20], Step [40/61], Loss: 0.0262\n",
      "Epoch [15/20], Step [50/61], Loss: 0.0280\n",
      "Epoch [15/20], Step [60/61], Loss: 0.0406\n",
      "Epoch [15/20], Loss: 0.0243\n",
      "Model weights saved to C://Users//kalya//Downloads//Test//Pretrained Weight//model_weights.pth\n",
      "Epoch [16/20], Step [0/61], Loss: 0.0228\n",
      "Epoch [16/20], Step [10/61], Loss: 0.0174\n",
      "Epoch [16/20], Step [20/61], Loss: 0.0231\n",
      "Epoch [16/20], Step [30/61], Loss: 0.0261\n",
      "Epoch [16/20], Step [40/61], Loss: 0.0215\n",
      "Epoch [16/20], Step [50/61], Loss: 0.0245\n",
      "Epoch [16/20], Step [60/61], Loss: 0.0211\n",
      "Epoch [16/20], Loss: 0.0233\n",
      "Model weights saved to C://Users//kalya//Downloads//Test//Pretrained Weight//model_weights.pth\n",
      "Epoch [17/20], Step [0/61], Loss: 0.0206\n",
      "Epoch [17/20], Step [10/61], Loss: 0.0170\n",
      "Epoch [17/20], Step [20/61], Loss: 0.0233\n",
      "Epoch [17/20], Step [30/61], Loss: 0.0208\n",
      "Epoch [17/20], Step [40/61], Loss: 0.0242\n",
      "Epoch [17/20], Step [50/61], Loss: 0.0200\n",
      "Epoch [17/20], Step [60/61], Loss: 0.0303\n",
      "Epoch [17/20], Loss: 0.0218\n",
      "Model weights saved to C://Users//kalya//Downloads//Test//Pretrained Weight//model_weights.pth\n",
      "Epoch [18/20], Step [0/61], Loss: 0.0176\n",
      "Epoch [18/20], Step [10/61], Loss: 0.0205\n",
      "Epoch [18/20], Step [20/61], Loss: 0.0201\n",
      "Epoch [18/20], Step [30/61], Loss: 0.0207\n",
      "Epoch [18/20], Step [40/61], Loss: 0.0291\n",
      "Epoch [18/20], Step [50/61], Loss: 0.0167\n",
      "Epoch [18/20], Step [60/61], Loss: 0.0178\n",
      "Epoch [18/20], Loss: 0.0211\n",
      "Model weights saved to C://Users//kalya//Downloads//Test//Pretrained Weight//model_weights.pth\n",
      "Epoch [19/20], Step [0/61], Loss: 0.0170\n",
      "Epoch [19/20], Step [10/61], Loss: 0.0216\n",
      "Epoch [19/20], Step [20/61], Loss: 0.0181\n",
      "Epoch [19/20], Step [30/61], Loss: 0.0218\n",
      "Epoch [19/20], Step [40/61], Loss: 0.0178\n",
      "Epoch [19/20], Step [50/61], Loss: 0.0200\n",
      "Epoch [19/20], Step [60/61], Loss: 0.0142\n",
      "Epoch [19/20], Loss: 0.0198\n",
      "Model weights saved to C://Users//kalya//Downloads//Test//Pretrained Weight//model_weights.pth\n",
      "Epoch [20/20], Step [0/61], Loss: 0.0203\n",
      "Epoch [20/20], Step [10/61], Loss: 0.0183\n",
      "Epoch [20/20], Step [20/61], Loss: 0.0210\n",
      "Epoch [20/20], Step [30/61], Loss: 0.0201\n",
      "Epoch [20/20], Step [40/61], Loss: 0.0228\n",
      "Epoch [20/20], Step [50/61], Loss: 0.0215\n",
      "Epoch [20/20], Step [60/61], Loss: 0.0173\n",
      "Epoch [20/20], Loss: 0.0193\n",
      "Model weights saved to C://Users//kalya//Downloads//Test//Pretrained Weight//model_weights.pth\n"
     ]
    }
   ],
   "source": [
    "torch.cuda.empty_cache()\n",
    "train(model, train_loader)"
   ]
  },
  {
   "cell_type": "code",
   "execution_count": 10,
   "metadata": {},
   "outputs": [],
   "source": [
    "test_dir = \"C://Users//kalya//Downloads//Test//Test//Fusion//\"\n",
    "weights_path = \"C://Users//kalya//Downloads//Test//Pretrained Weight//model_weights.pth\"\n",
    "output_dir = \"C://Users//kalya//Downloads//Enhanced Low Light Images//\"\n"
   ]
  },
  {
   "cell_type": "code",
   "execution_count": 11,
   "metadata": {},
   "outputs": [
    {
     "name": "stderr",
     "output_type": "stream",
     "text": [
      "C:\\Users\\kalya\\AppData\\Local\\Temp\\ipykernel_15140\\1740479061.py:3: FutureWarning: You are using `torch.load` with `weights_only=False` (the current default value), which uses the default pickle module implicitly. It is possible to construct malicious pickle data which will execute arbitrary code during unpickling (See https://github.com/pytorch/pytorch/blob/main/SECURITY.md#untrusted-models for more details). In a future release, the default value for `weights_only` will be flipped to `True`. This limits the functions that could be executed during unpickling. Arbitrary objects will no longer be allowed to be loaded via this mode unless they are explicitly allowlisted by the user via `torch.serialization.add_safe_globals`. We recommend you start setting `weights_only=True` for any use case where you don't have full control of the loaded file. Please open an issue on GitHub for any issues related to this experimental feature.\n",
      "  model.load_state_dict(torch.load(weights_path, map_location=device))\n"
     ]
    },
    {
     "data": {
      "text/plain": [
       "SimpleCNN(\n",
       "  (layer1): Conv2d(3, 32, kernel_size=(3, 3), stride=(1, 1), padding=(1, 1))\n",
       "  (relu): ReLU()\n",
       "  (layer2): Conv2d(32, 64, kernel_size=(3, 3), stride=(1, 1), padding=(1, 1))\n",
       "  (layer3): Conv2d(64, 128, kernel_size=(3, 3), stride=(1, 1), padding=(1, 1))\n",
       "  (fc1): Linear(in_features=524288, out_features=512, bias=True)\n",
       "  (fc2): Linear(in_features=512, out_features=12288, bias=True)\n",
       ")"
      ]
     },
     "execution_count": 11,
     "metadata": {},
     "output_type": "execute_result"
    }
   ],
   "source": [
    "device = torch.device('cuda' if torch.cuda.is_available() else 'cpu')\n",
    "model = SimpleCNN().to(device)\n",
    "model.load_state_dict(torch.load(weights_path, map_location=device))\n",
    "model.eval()"
   ]
  },
  {
   "cell_type": "code",
   "execution_count": 12,
   "metadata": {},
   "outputs": [],
   "source": [
    "transform = transforms.Compose([\n",
    "    transforms.Resize((64, 64)),\n",
    "    transforms.ToTensor(),\n",
    "])"
   ]
  },
  {
   "cell_type": "code",
   "execution_count": 13,
   "metadata": {},
   "outputs": [],
   "source": [
    "def enhance_image(image_path):\n",
    "    image = Image.open(image_path).convert('RGB')\n",
    "    input_tensor = transform(image).unsqueeze(0).to(device) \n",
    "    with torch.no_grad():\n",
    "        enhanced_tensor = model(input_tensor) \n",
    "    enhanced_image = enhanced_tensor.squeeze(0).cpu().numpy()\n",
    "    enhanced_image = np.transpose(enhanced_image, (1, 2, 0)) \n",
    "    enhanced_image = (enhanced_image * 255).astype(np.uint8) \n",
    "    return Image.fromarray(enhanced_image)"
   ]
  },
  {
   "cell_type": "code",
   "execution_count": 14,
   "metadata": {},
   "outputs": [
    {
     "name": "stdout",
     "output_type": "stream",
     "text": [
      "Enhancement of low-light images complete!\n"
     ]
    }
   ],
   "source": [
    "for image_name in os.listdir(test_dir):\n",
    "    if image_name.endswith(('.png', '.jpg', '.jpeg')): \n",
    "        image_path = os.path.join(test_dir, image_name)\n",
    "        enhanced_image = enhance_image(image_path)\n",
    "        \n",
    "        # Save the enhanced image\n",
    "        save_path = os.path.join(output_dir, image_name)\n",
    "        enhanced_image.save(save_path)\n",
    "\n",
    "print(\"Enhancement of low-light images complete!\")"
   ]
  }
 ],
 "metadata": {
  "kernelspec": {
   "display_name": "cevi",
   "language": "python",
   "name": "python3"
  },
  "language_info": {
   "codemirror_mode": {
    "name": "ipython",
    "version": 3
   },
   "file_extension": ".py",
   "mimetype": "text/x-python",
   "name": "python",
   "nbconvert_exporter": "python",
   "pygments_lexer": "ipython3",
   "version": "undefined.undefined.undefined"
  }
 },
 "nbformat": 4,
 "nbformat_minor": 2
}
